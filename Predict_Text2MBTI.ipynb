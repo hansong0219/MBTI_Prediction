{
 "cells": [
  {
   "cell_type": "code",
   "execution_count": 1,
   "metadata": {},
   "outputs": [
    {
     "name": "stderr",
     "output_type": "stream",
     "text": [
      "Using TensorFlow backend.\n"
     ]
    }
   ],
   "source": [
    "import csv\n",
    "import pickle\n",
    "import collections\n",
    "import numpy as np\n",
    "from nltk import word_tokenize\n",
    "from nltk.stem import WordNetLemmatizer\n",
    "from nltk.corpus import stopwords \n",
    "from keras.preprocessing import sequence\n",
    "from keras.preprocessing import text\n",
    "from keras.models import load_model"
   ]
  },
  {
   "cell_type": "code",
   "execution_count": 10,
   "metadata": {},
   "outputs": [],
   "source": [
    "DIMENSIONS = ['IE', 'NS', 'FT', 'PJ']\n",
    "MODEL_BATCH_SIZE = 128\n",
    "TOP_WORDS = 2500\n",
    "MAX_POST_LENGTH = 40\n",
    "EMBEDDING_VECTOR_LENGTH = 20\n",
    "\n",
    "final = ''\n",
    "\n",
    "x_test = [\"Any intelligent fool can make things bigger, more complex, and more violent. It takes a touch of genius -- and a lot of courage -- to move in the opposite direction.\",\n",
    "          \"Imagination is more important than knowledge.\",\n",
    "          \"Gravitation is not responsible for people falling in love.\",\n",
    "          \"I want to know God's thoughts; the rest are details.\",\n",
    "          \"The hardest thing in the world to understand is the income tax.\",\n",
    "          \"Reality is merely an illusion, albeit a very persistent one.\",\n",
    "          \"The only real valuable thing is intuition.\",\"A person starts to live when he can live outside himself.\",\n",
    "          \"I am convinced that He (God) does not play dice.\",\"God is subtle but he is not malicious.\",\n",
    "          \"Weakness of attitude becomes weakness of character.\",\"I never think of the future. It comes soon enough.\",\n",
    "          \"The eternal mystery of the world is its comprehensibility.\",\n",
    "          \"sometimes one pays most for the things one gets for nothing.\",\n",
    "          \"Science without religion is lame. Religion without science is blind.\",\n",
    "          \"Anyone who has never made a mistake has never tried anything new.\",\n",
    "          \"Great spirits have often encountered violent opposition from weak minds.\",\n",
    "          \"Everything should be made as simple as possible, but not simpler.\",\n",
    "          \"Common sense is the collection of prejudices acquired by age eighteen.\",\n",
    "          \"Science is a wonderful thing if one does not have to earn one's living at it.\",\n",
    "          \"The secret to creativity is knowing how to hide your sources.\",\n",
    "          \"The only thing that interferes with my learning is my education.\",\n",
    "          \"God does not care about our mathematical difficulties. He integrates empirically.\",\n",
    "          \"The whole of science is nothing more than a refinement of everyday thinking.\",\n",
    "          \"Technological progress is like an axe in the hands of a pathological criminal.\",\n",
    "          \"Peace cannot be kept by force. It can only be achieved by understanding.\",\n",
    "          \"The most incomprehensible thing about the world is that it is comprehensible.\",\n",
    "          \"We can't solve problems by using the same kind of thinking we used when we created them.\",\n",
    "          \"Education is what remains after one has forgotten everything he learned in school.\",\n",
    "          \"The important thing is not to stop questioning. Curiosity has its own reason for existing.\",\n",
    "          \"Do not worry about your difficulties in Mathematics. I can assure you mine are still greater.\",\n",
    "          \"Equations are more important to me, because politics is for the present, but an equation is something for eternity.\",\n",
    "          \"If A is a success in life, then A equals x plus y plus z. Work is x; y is play; and z is keeping your mouth shut.\",\n",
    "          \"Two things are infinite: the universe and human stupidity; and I'm not sure about the the universe.\",\n",
    "          \"As far as the laws of mathematics refer to reality, they are not certain, as far as they are certain, they do not refer to reality.\",\n",
    "          \"Whoever undertakes to set himself up as a judge of Truth and Knowledge is shipwrecked by the laughter of the gods.\",\n",
    "          \"I know not with what weapons World War III will be fought, but World War IV will be fought with sticks and stones.\",\n",
    "          \"In order to form an immaculate member of a flock of sheep one must, above all, be a sheep.\",\n",
    "          \"The fear of death is the most unjustified of all fears, for there's no risk of accident for someone who's dead.\",\n",
    "          \"Too many of us look upon Americans as dollar chasers. This is a cruel libel, even if it is reiterated thoughtlessly by the Americans themselves.\",\n",
    "          \"Heroism on command, senseless violence, and all the loathsome nonsense that goes by the name of patriotism -- how passionately I hate them!\",\n",
    "          \"No, this trick won't work...How on earth are you ever going to explain in terms of chemistry and physics so important a biological phenomenon as first love?\",\n",
    "          \"My religion consists of a humble admiration of the illimitable superior spirit who reveals himself in the slight details we are able to perceive with our frail and feeble mind.\",\n",
    "          \"Yes, we have to divide up our time like that, between our politics and our equations. But to me our equations are far more important, for politics are only a matter of present concern. A mathematical equation stands forever.\",\n",
    "          \"The release of atom power has changed everything except our way of thinking...the solution to this problem lies in the heart of mankind. If only I had known, I should have become a watchmaker.\",\n",
    "          \"Great spirits have always found violent opposition from mediocrities. The latter cannot understand it when a man does not thoughtlessly submit to hereditary prejudices but honestly and courageously uses his intelligence.\",\n",
    "          \"The most beautiful thing we can experience is the mysterious. It is the source of all true art and all science. He to whom this emotion is a stranger, who can no longer pause to wonder and stand rapt in awe, is as good as dead: his eyes are closed.\",\n",
    "          \"A man's ethical behavior should be based effectually on sympathy, education, and social ties; no religious basis is necessary. Man would indeeded be in a poor way if he had to be restrained by fear of punishment and hope of reward after death.\",\n",
    "          \"The further the spiritual evolution of mankind advances, the more certain it seems to me that the path to genuine religiosity does not lie through the fear of life, and the fear of death, and blind faith, but through striving after rational knowledge.\",\n",
    "          \"Now he has departed from this strange world a little ahead of me. That means nothing. People like us, who believe in physics, know that the distinction between past, present, and future is only a stubbornly persistent illusion.\",\n",
    "          \"You see, wire telegraph is a kind of a very, very long cat. You pull his tail in New York and his head is meowing in Los Angeles. Do you understand this? And radio operates exactly the same way: you send signals here, they receive them there. The only difference is that there is no cat.\",\n",
    "          \"One had to cram all this stuff into one's mind for the examinations, whether one liked it or not. This coercion had such a deterring effect on me that, after I had passed the final examination, I found the consideration of any scientific problems distasteful to me for an entire year.\",\n",
    "          \"...one of the strongest motives that lead men to art and science is escape from everyday life with its painful crudity and hopeless dreariness, from the fetters of one's own ever-shifting desires. A finely tempered nature longs to escape from the personal life into the world of objective perception and thought.\",\n",
    "          \"He who joyfully marches to music rank and file, has already earned my contempt. He has been given a large brain by mistake, since for him the spinal cord would surely suffice. This disgrace to civilization should be done away with at once. Heroism at command, how violently I hate all this, how despicable and ignoble war is; I would rather be torn to shreds than be a part of so base an action. It is my conviction that killing under the cloak of war is nothing but an act of murder.\",\n",
    "          \"A human being is a part of a whole, called by us _universe_, a part limited in time and space. He experiences himself, his thoughts and feelings as something separated from the rest... a kind of optical delusion of his consciousness. This delusion is a kind of prison for us, restricting us to our personal desires and to affection for a few persons nearest to us. Our task must be to free ourselves from this prison by widening our circle of compassion to embrace all living creatures and the whole of nature in its beauty.\",\n",
    "          \"Not everything that counts can be counted, and not everything that can be counted counts.\"]"
   ]
  },
  {
   "cell_type": "code",
   "execution_count": 11,
   "metadata": {},
   "outputs": [
    {
     "name": "stdout",
     "output_type": "stream",
     "text": [
      "IE 0.48\n",
      "NS 0.43\n",
      "FT 0.58\n",
      "PJ 0.49\n",
      "\n",
      "MBTI result: INTP\n"
     ]
    }
   ],
   "source": [
    "types = ['INFJ', 'ENTP', 'INTP', 'INTJ', 'ENTJ', 'ENFJ', 'INFP', 'ENFP', 'ISFP', 'ISTP', 'ISFJ', 'ISTJ', 'ESTP', 'ESFP', 'ESTJ', 'ESFJ']\n",
    "types = [x.lower() for x in types]\n",
    "lemmatizer = WordNetLemmatizer()\n",
    "stop_words = stopwords.words(\"english\")\n",
    "\n",
    "def lemmatize(x):\n",
    "    lemmatized = []\n",
    "    for post in x: \n",
    "        temp = post.lower() \n",
    "        for type_ in types: \n",
    "            temp = temp.replace(' ' + type_, '')\n",
    "        \n",
    "        temp = ' '.join([lemmatizer.lemmatize(word) for word in temp.split(' ') if (word not in stop_words)])\n",
    "        lemmatized.append(temp)\n",
    "    return np.array(lemmatized)\n",
    "\n",
    "for k in range(len(DIMENSIONS)):\n",
    "    model = load_model('C:/myproject/mbti_predict/model_{}.h5'.format(DIMENSIONS[k]))\n",
    "    tokenizer = None\n",
    "    with open('C:/myproject/mbti_predict/tokenizer_{}.pkl'.format(DIMENSIONS[k]), 'rb') as f:\n",
    "        tokenizer = pickle.load(f)\n",
    "    def preprocess(x):\n",
    "        lemmatized = lemmatize(x)\n",
    "        tokenized = tokenizer.texts_to_sequences(lemmatized)\n",
    "        return sequence.pad_sequences(tokenized, maxlen=MAX_POST_LENGTH)\n",
    "\n",
    "    predictions = model.predict(preprocess(x_test))\n",
    "    prediction = float(sum(predictions)/len(predictions))\n",
    "    print(DIMENSIONS[k],round(prediction,2))\n",
    "    \n",
    "    if prediction >= 0.5: \n",
    "        final += DIMENSIONS[k][1]\n",
    "    else: \n",
    "        final += DIMENSIONS[k][0]\n",
    "\n",
    "print('')\n",
    "print('MBTI result: {}'.format(final))"
   ]
  },
  {
   "cell_type": "code",
   "execution_count": null,
   "metadata": {},
   "outputs": [],
   "source": []
  },
  {
   "cell_type": "code",
   "execution_count": null,
   "metadata": {},
   "outputs": [],
   "source": []
  },
  {
   "cell_type": "code",
   "execution_count": null,
   "metadata": {},
   "outputs": [],
   "source": []
  }
 ],
 "metadata": {
  "kernelspec": {
   "display_name": "Python 3",
   "language": "python",
   "name": "python3"
  },
  "language_info": {
   "codemirror_mode": {
    "name": "ipython",
    "version": 3
   },
   "file_extension": ".py",
   "mimetype": "text/x-python",
   "name": "python",
   "nbconvert_exporter": "python",
   "pygments_lexer": "ipython3",
   "version": "3.6.8"
  }
 },
 "nbformat": 4,
 "nbformat_minor": 4
}
